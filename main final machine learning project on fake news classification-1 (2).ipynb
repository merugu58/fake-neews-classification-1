{
 "cells": [
  {
   "cell_type": "markdown",
   "id": "4ce60dfc",
   "metadata": {},
   "source": [
    "## Import libraries"
   ]
  },
  {
   "cell_type": "code",
   "execution_count": 1,
   "id": "dd809f18",
   "metadata": {},
   "outputs": [],
   "source": [
    "import pandas as pd \n",
    "import numpy as np \n",
    "import matplotlib.pyplot as plt\n",
    "import warnings\n",
    "warnings.filterwarnings('ignore')\n",
    "import seaborn as sns \n",
    "## NLP libraries to clean the text data\n",
    "import re\n",
    "from nltk.corpus import stopwords\n",
    "from nltk.stem.porter import PorterStemmer\n",
    "## vectorization technique TF-IDF\n",
    "from sklearn.feature_extraction.text import TfidfVectorizer \n",
    "## For Splitting the dataset\n",
    "from sklearn.model_selection import train_test_split\n",
    "## model libraries \n",
    "from sklearn.linear_model import LogisticRegression\n",
    "from sklearn.svm import SVC\n",
    "from sklearn.ensemble import RandomForestClassifier\n",
    "\n",
    "#Accuracy measuring library\n",
    "from sklearn.metrics import accuracy_score\n"
   ]
  },
  {
   "cell_type": "markdown",
   "id": "c202fcf8",
   "metadata": {},
   "source": [
    "## Loading the data "
   ]
  },
  {
   "cell_type": "code",
   "execution_count": null,
   "id": "b0cdf094",
   "metadata": {},
   "outputs": [],
   "source": []
  },
  {
   "cell_type": "code",
   "execution_count": 2,
   "id": "2c7c8948",
   "metadata": {},
   "outputs": [],
   "source": [
    "df = pd.read_csv(\"data.csv\")\n"
   ]
  },
  {
   "cell_type": "code",
   "execution_count": 3,
   "id": "d909d30d",
   "metadata": {},
   "outputs": [
    {
     "data": {
      "text/plain": [
       "pandas.core.frame.DataFrame"
      ]
     },
     "execution_count": 3,
     "metadata": {},
     "output_type": "execute_result"
    }
   ],
   "source": [
    "type(df)"
   ]
  },
  {
   "cell_type": "code",
   "execution_count": 3,
   "id": "0b7a7254",
   "metadata": {},
   "outputs": [
    {
     "data": {
      "text/plain": [
       "(4009, 4)"
      ]
     },
     "execution_count": 3,
     "metadata": {},
     "output_type": "execute_result"
    }
   ],
   "source": [
    "df.shape"
   ]
  },
  {
   "cell_type": "code",
   "execution_count": 4,
   "id": "f302d1bb",
   "metadata": {},
   "outputs": [
    {
     "name": "stdout",
     "output_type": "stream",
     "text": [
      "<class 'pandas.core.frame.DataFrame'>\n",
      "RangeIndex: 4009 entries, 0 to 4008\n",
      "Data columns (total 4 columns):\n",
      " #   Column    Non-Null Count  Dtype \n",
      "---  ------    --------------  ----- \n",
      " 0   URLs      4009 non-null   object\n",
      " 1   Headline  4009 non-null   object\n",
      " 2   Body      3988 non-null   object\n",
      " 3   Label     4009 non-null   int64 \n",
      "dtypes: int64(1), object(3)\n",
      "memory usage: 125.4+ KB\n"
     ]
    }
   ],
   "source": [
    "df.info()"
   ]
  },
  {
   "cell_type": "code",
   "execution_count": 5,
   "id": "be1104fc",
   "metadata": {},
   "outputs": [
    {
     "data": {
      "text/html": [
       "<div>\n",
       "<style scoped>\n",
       "    .dataframe tbody tr th:only-of-type {\n",
       "        vertical-align: middle;\n",
       "    }\n",
       "\n",
       "    .dataframe tbody tr th {\n",
       "        vertical-align: top;\n",
       "    }\n",
       "\n",
       "    .dataframe thead th {\n",
       "        text-align: right;\n",
       "    }\n",
       "</style>\n",
       "<table border=\"1\" class=\"dataframe\">\n",
       "  <thead>\n",
       "    <tr style=\"text-align: right;\">\n",
       "      <th></th>\n",
       "      <th>Label</th>\n",
       "    </tr>\n",
       "  </thead>\n",
       "  <tbody>\n",
       "    <tr>\n",
       "      <th>count</th>\n",
       "      <td>4009.000000</td>\n",
       "    </tr>\n",
       "    <tr>\n",
       "      <th>mean</th>\n",
       "      <td>0.466949</td>\n",
       "    </tr>\n",
       "    <tr>\n",
       "      <th>std</th>\n",
       "      <td>0.498969</td>\n",
       "    </tr>\n",
       "    <tr>\n",
       "      <th>min</th>\n",
       "      <td>0.000000</td>\n",
       "    </tr>\n",
       "    <tr>\n",
       "      <th>25%</th>\n",
       "      <td>0.000000</td>\n",
       "    </tr>\n",
       "    <tr>\n",
       "      <th>50%</th>\n",
       "      <td>0.000000</td>\n",
       "    </tr>\n",
       "    <tr>\n",
       "      <th>75%</th>\n",
       "      <td>1.000000</td>\n",
       "    </tr>\n",
       "    <tr>\n",
       "      <th>max</th>\n",
       "      <td>1.000000</td>\n",
       "    </tr>\n",
       "  </tbody>\n",
       "</table>\n",
       "</div>"
      ],
      "text/plain": [
       "             Label\n",
       "count  4009.000000\n",
       "mean      0.466949\n",
       "std       0.498969\n",
       "min       0.000000\n",
       "25%       0.000000\n",
       "50%       0.000000\n",
       "75%       1.000000\n",
       "max       1.000000"
      ]
     },
     "execution_count": 5,
     "metadata": {},
     "output_type": "execute_result"
    }
   ],
   "source": [
    "df.describe()"
   ]
  },
  {
   "cell_type": "code",
   "execution_count": 6,
   "id": "14a4b0d7",
   "metadata": {},
   "outputs": [
    {
     "data": {
      "text/html": [
       "<div>\n",
       "<style scoped>\n",
       "    .dataframe tbody tr th:only-of-type {\n",
       "        vertical-align: middle;\n",
       "    }\n",
       "\n",
       "    .dataframe tbody tr th {\n",
       "        vertical-align: top;\n",
       "    }\n",
       "\n",
       "    .dataframe thead th {\n",
       "        text-align: right;\n",
       "    }\n",
       "</style>\n",
       "<table border=\"1\" class=\"dataframe\">\n",
       "  <thead>\n",
       "    <tr style=\"text-align: right;\">\n",
       "      <th></th>\n",
       "      <th>URLs</th>\n",
       "      <th>Headline</th>\n",
       "      <th>Body</th>\n",
       "      <th>Label</th>\n",
       "    </tr>\n",
       "  </thead>\n",
       "  <tbody>\n",
       "    <tr>\n",
       "      <th>0</th>\n",
       "      <td>http://www.bbc.com/news/world-us-canada-414191...</td>\n",
       "      <td>Four ways Bob Corker skewered Donald Trump</td>\n",
       "      <td>Image copyright Getty Images\\nOn Sunday mornin...</td>\n",
       "      <td>1</td>\n",
       "    </tr>\n",
       "    <tr>\n",
       "      <th>1</th>\n",
       "      <td>https://www.reuters.com/article/us-filmfestiva...</td>\n",
       "      <td>Linklater's war veteran comedy speaks to moder...</td>\n",
       "      <td>LONDON (Reuters) - “Last Flag Flying”, a comed...</td>\n",
       "      <td>1</td>\n",
       "    </tr>\n",
       "    <tr>\n",
       "      <th>2</th>\n",
       "      <td>https://www.nytimes.com/2017/10/09/us/politics...</td>\n",
       "      <td>Trump’s Fight With Corker Jeopardizes His Legi...</td>\n",
       "      <td>The feud broke into public view last week when...</td>\n",
       "      <td>1</td>\n",
       "    </tr>\n",
       "    <tr>\n",
       "      <th>3</th>\n",
       "      <td>https://www.reuters.com/article/us-mexico-oil-...</td>\n",
       "      <td>Egypt's Cheiron wins tie-up with Pemex for Mex...</td>\n",
       "      <td>MEXICO CITY (Reuters) - Egypt’s Cheiron Holdin...</td>\n",
       "      <td>1</td>\n",
       "    </tr>\n",
       "    <tr>\n",
       "      <th>4</th>\n",
       "      <td>http://www.cnn.com/videos/cnnmoney/2017/10/08/...</td>\n",
       "      <td>Jason Aldean opens 'SNL' with Vegas tribute</td>\n",
       "      <td>Country singer Jason Aldean, who was performin...</td>\n",
       "      <td>1</td>\n",
       "    </tr>\n",
       "    <tr>\n",
       "      <th>5</th>\n",
       "      <td>http://beforeitsnews.com/sports/2017/09/jetnat...</td>\n",
       "      <td>JetNation FanDuel League; Week 4</td>\n",
       "      <td>JetNation FanDuel League; Week 4\\n% of readers...</td>\n",
       "      <td>0</td>\n",
       "    </tr>\n",
       "    <tr>\n",
       "      <th>6</th>\n",
       "      <td>https://www.nytimes.com/2017/10/10/us/politics...</td>\n",
       "      <td>Kansas Tried a Tax Plan Similar to Trump’s. It...</td>\n",
       "      <td>In 2012, Kansas lawmakers, led by Gov. Sam Bro...</td>\n",
       "      <td>1</td>\n",
       "    </tr>\n",
       "    <tr>\n",
       "      <th>7</th>\n",
       "      <td>https://www.reuters.com/article/us-india-cenba...</td>\n",
       "      <td>India RBI chief: growth important, but not at ...</td>\n",
       "      <td>The Reserve Bank of India (RBI) Governor Urjit...</td>\n",
       "      <td>1</td>\n",
       "    </tr>\n",
       "    <tr>\n",
       "      <th>8</th>\n",
       "      <td>https://www.reuters.com/article/us-climatechan...</td>\n",
       "      <td>EPA chief to sign rule on Clean Power Plan exi...</td>\n",
       "      <td>Scott Pruitt, Administrator of the U.S. Enviro...</td>\n",
       "      <td>1</td>\n",
       "    </tr>\n",
       "    <tr>\n",
       "      <th>9</th>\n",
       "      <td>https://www.reuters.com/article/us-air-berlin-...</td>\n",
       "      <td>Talks on sale of Air Berlin planes to easyJet ...</td>\n",
       "      <td>FILE PHOTO - An Air Berlin sign is seen at an ...</td>\n",
       "      <td>1</td>\n",
       "    </tr>\n",
       "  </tbody>\n",
       "</table>\n",
       "</div>"
      ],
      "text/plain": [
       "                                                URLs  \\\n",
       "0  http://www.bbc.com/news/world-us-canada-414191...   \n",
       "1  https://www.reuters.com/article/us-filmfestiva...   \n",
       "2  https://www.nytimes.com/2017/10/09/us/politics...   \n",
       "3  https://www.reuters.com/article/us-mexico-oil-...   \n",
       "4  http://www.cnn.com/videos/cnnmoney/2017/10/08/...   \n",
       "5  http://beforeitsnews.com/sports/2017/09/jetnat...   \n",
       "6  https://www.nytimes.com/2017/10/10/us/politics...   \n",
       "7  https://www.reuters.com/article/us-india-cenba...   \n",
       "8  https://www.reuters.com/article/us-climatechan...   \n",
       "9  https://www.reuters.com/article/us-air-berlin-...   \n",
       "\n",
       "                                            Headline  \\\n",
       "0         Four ways Bob Corker skewered Donald Trump   \n",
       "1  Linklater's war veteran comedy speaks to moder...   \n",
       "2  Trump’s Fight With Corker Jeopardizes His Legi...   \n",
       "3  Egypt's Cheiron wins tie-up with Pemex for Mex...   \n",
       "4        Jason Aldean opens 'SNL' with Vegas tribute   \n",
       "5                   JetNation FanDuel League; Week 4   \n",
       "6  Kansas Tried a Tax Plan Similar to Trump’s. It...   \n",
       "7  India RBI chief: growth important, but not at ...   \n",
       "8  EPA chief to sign rule on Clean Power Plan exi...   \n",
       "9  Talks on sale of Air Berlin planes to easyJet ...   \n",
       "\n",
       "                                                Body  Label  \n",
       "0  Image copyright Getty Images\\nOn Sunday mornin...      1  \n",
       "1  LONDON (Reuters) - “Last Flag Flying”, a comed...      1  \n",
       "2  The feud broke into public view last week when...      1  \n",
       "3  MEXICO CITY (Reuters) - Egypt’s Cheiron Holdin...      1  \n",
       "4  Country singer Jason Aldean, who was performin...      1  \n",
       "5  JetNation FanDuel League; Week 4\\n% of readers...      0  \n",
       "6  In 2012, Kansas lawmakers, led by Gov. Sam Bro...      1  \n",
       "7  The Reserve Bank of India (RBI) Governor Urjit...      1  \n",
       "8  Scott Pruitt, Administrator of the U.S. Enviro...      1  \n",
       "9  FILE PHOTO - An Air Berlin sign is seen at an ...      1  "
      ]
     },
     "execution_count": 6,
     "metadata": {},
     "output_type": "execute_result"
    }
   ],
   "source": [
    "df.head(10)"
   ]
  },
  {
   "cell_type": "code",
   "execution_count": 7,
   "id": "e85d0afb",
   "metadata": {},
   "outputs": [
    {
     "data": {
      "text/html": [
       "<div>\n",
       "<style scoped>\n",
       "    .dataframe tbody tr th:only-of-type {\n",
       "        vertical-align: middle;\n",
       "    }\n",
       "\n",
       "    .dataframe tbody tr th {\n",
       "        vertical-align: top;\n",
       "    }\n",
       "\n",
       "    .dataframe thead th {\n",
       "        text-align: right;\n",
       "    }\n",
       "</style>\n",
       "<table border=\"1\" class=\"dataframe\">\n",
       "  <thead>\n",
       "    <tr style=\"text-align: right;\">\n",
       "      <th></th>\n",
       "      <th>URLs</th>\n",
       "      <th>Headline</th>\n",
       "      <th>Body</th>\n",
       "      <th>Label</th>\n",
       "    </tr>\n",
       "  </thead>\n",
       "  <tbody>\n",
       "    <tr>\n",
       "      <th>3999</th>\n",
       "      <td>https://www.reuters.com/article/us-baseball-ml...</td>\n",
       "      <td>Red Sox fire manager Farrell after five seasons</td>\n",
       "      <td>FILE PHOTO: Oct 25, 2013; St. Louis, MO, USA; ...</td>\n",
       "      <td>1</td>\n",
       "    </tr>\n",
       "    <tr>\n",
       "      <th>4000</th>\n",
       "      <td>https://www.activistpost.com/2017/09/false-arr...</td>\n",
       "      <td>35 False Matches and 1 Erroneous Arrest As Pol...</td>\n",
       "      <td>By Nicholas West\\nAll things biometric are swe...</td>\n",
       "      <td>0</td>\n",
       "    </tr>\n",
       "    <tr>\n",
       "      <th>4001</th>\n",
       "      <td>https://www.nytimes.com/2017/10/09/obituaries/...</td>\n",
       "      <td>Hervé Leroux, Creator of the Hervé Léger Banda...</td>\n",
       "      <td>Mr. Leroux was born Hervé Peugnet on May 30, 1...</td>\n",
       "      <td>1</td>\n",
       "    </tr>\n",
       "    <tr>\n",
       "      <th>4002</th>\n",
       "      <td>http://www.cnn.com/videos/politics/2017/10/09/...</td>\n",
       "      <td>The price tag for Pence's trip to Indianapolis</td>\n",
       "      <td>Ethical questions loom after Vice President Mi...</td>\n",
       "      <td>1</td>\n",
       "    </tr>\n",
       "    <tr>\n",
       "      <th>4003</th>\n",
       "      <td>http://beforeitsnews.com/u-s-politics/2017/10/...</td>\n",
       "      <td>CNN and Globalist Exposed - Steve Quayle and A...</td>\n",
       "      <td>Vietnam Is in Great Danger, You Must Publish a...</td>\n",
       "      <td>0</td>\n",
       "    </tr>\n",
       "    <tr>\n",
       "      <th>4004</th>\n",
       "      <td>http://beforeitsnews.com/sports/2017/09/trends...</td>\n",
       "      <td>Trends to Watch</td>\n",
       "      <td>Trends to Watch\\n% of readers think this story...</td>\n",
       "      <td>0</td>\n",
       "    </tr>\n",
       "    <tr>\n",
       "      <th>4005</th>\n",
       "      <td>http://beforeitsnews.com/u-s-politics/2017/10/...</td>\n",
       "      <td>Trump Jr. Is Soon To Give A 30-Minute Speech F...</td>\n",
       "      <td>Trump Jr. Is Soon To Give A 30-Minute Speech F...</td>\n",
       "      <td>0</td>\n",
       "    </tr>\n",
       "    <tr>\n",
       "      <th>4006</th>\n",
       "      <td>https://www.activistpost.com/2017/09/ron-paul-...</td>\n",
       "      <td>Ron Paul on Trump, Anarchism &amp; the AltRight</td>\n",
       "      <td>NaN</td>\n",
       "      <td>0</td>\n",
       "    </tr>\n",
       "    <tr>\n",
       "      <th>4007</th>\n",
       "      <td>https://www.reuters.com/article/us-china-pharm...</td>\n",
       "      <td>China to accept overseas trial data in bid to ...</td>\n",
       "      <td>SHANGHAI (Reuters) - China said it plans to ac...</td>\n",
       "      <td>1</td>\n",
       "    </tr>\n",
       "    <tr>\n",
       "      <th>4008</th>\n",
       "      <td>http://beforeitsnews.com/u-s-politics/2017/10/...</td>\n",
       "      <td>Vice President Mike Pence Leaves NFL Game Beca...</td>\n",
       "      <td>Vice President Mike Pence Leaves NFL Game Beca...</td>\n",
       "      <td>0</td>\n",
       "    </tr>\n",
       "  </tbody>\n",
       "</table>\n",
       "</div>"
      ],
      "text/plain": [
       "                                                   URLs  \\\n",
       "3999  https://www.reuters.com/article/us-baseball-ml...   \n",
       "4000  https://www.activistpost.com/2017/09/false-arr...   \n",
       "4001  https://www.nytimes.com/2017/10/09/obituaries/...   \n",
       "4002  http://www.cnn.com/videos/politics/2017/10/09/...   \n",
       "4003  http://beforeitsnews.com/u-s-politics/2017/10/...   \n",
       "4004  http://beforeitsnews.com/sports/2017/09/trends...   \n",
       "4005  http://beforeitsnews.com/u-s-politics/2017/10/...   \n",
       "4006  https://www.activistpost.com/2017/09/ron-paul-...   \n",
       "4007  https://www.reuters.com/article/us-china-pharm...   \n",
       "4008  http://beforeitsnews.com/u-s-politics/2017/10/...   \n",
       "\n",
       "                                               Headline  \\\n",
       "3999    Red Sox fire manager Farrell after five seasons   \n",
       "4000  35 False Matches and 1 Erroneous Arrest As Pol...   \n",
       "4001  Hervé Leroux, Creator of the Hervé Léger Banda...   \n",
       "4002     The price tag for Pence's trip to Indianapolis   \n",
       "4003  CNN and Globalist Exposed - Steve Quayle and A...   \n",
       "4004                                    Trends to Watch   \n",
       "4005  Trump Jr. Is Soon To Give A 30-Minute Speech F...   \n",
       "4006        Ron Paul on Trump, Anarchism & the AltRight   \n",
       "4007  China to accept overseas trial data in bid to ...   \n",
       "4008  Vice President Mike Pence Leaves NFL Game Beca...   \n",
       "\n",
       "                                                   Body  Label  \n",
       "3999  FILE PHOTO: Oct 25, 2013; St. Louis, MO, USA; ...      1  \n",
       "4000  By Nicholas West\\nAll things biometric are swe...      0  \n",
       "4001  Mr. Leroux was born Hervé Peugnet on May 30, 1...      1  \n",
       "4002  Ethical questions loom after Vice President Mi...      1  \n",
       "4003  Vietnam Is in Great Danger, You Must Publish a...      0  \n",
       "4004  Trends to Watch\\n% of readers think this story...      0  \n",
       "4005  Trump Jr. Is Soon To Give A 30-Minute Speech F...      0  \n",
       "4006                                                NaN      0  \n",
       "4007  SHANGHAI (Reuters) - China said it plans to ac...      1  \n",
       "4008  Vice President Mike Pence Leaves NFL Game Beca...      0  "
      ]
     },
     "execution_count": 7,
     "metadata": {},
     "output_type": "execute_result"
    }
   ],
   "source": [
    "df.tail(10)"
   ]
  },
  {
   "cell_type": "code",
   "execution_count": 8,
   "id": "19fd7e39",
   "metadata": {},
   "outputs": [
    {
     "data": {
      "text/plain": [
       "Index(['URLs', 'Headline', 'Body', 'Label'], dtype='object')"
      ]
     },
     "execution_count": 8,
     "metadata": {},
     "output_type": "execute_result"
    }
   ],
   "source": [
    "df.columns"
   ]
  },
  {
   "cell_type": "code",
   "execution_count": 9,
   "id": "860f29bc",
   "metadata": {},
   "outputs": [
    {
     "data": {
      "text/plain": [
       "URLs         0\n",
       "Headline     0\n",
       "Body        21\n",
       "Label        0\n",
       "dtype: int64"
      ]
     },
     "execution_count": 9,
     "metadata": {},
     "output_type": "execute_result"
    }
   ],
   "source": [
    "df.isnull().sum()"
   ]
  },
  {
   "cell_type": "code",
   "execution_count": 10,
   "id": "327e0151",
   "metadata": {},
   "outputs": [
    {
     "data": {
      "text/plain": [
       "21"
      ]
     },
     "execution_count": 10,
     "metadata": {},
     "output_type": "execute_result"
    }
   ],
   "source": [
    "df.Body.isnull().sum()"
   ]
  },
  {
   "cell_type": "code",
   "execution_count": 11,
   "id": "0187bb98",
   "metadata": {},
   "outputs": [
    {
     "data": {
      "text/plain": [
       "0.005238214018458469"
      ]
     },
     "execution_count": 11,
     "metadata": {},
     "output_type": "execute_result"
    }
   ],
   "source": [
    "float(100*0.21/4009)"
   ]
  },
  {
   "cell_type": "code",
   "execution_count": 12,
   "id": "f7dc278e",
   "metadata": {},
   "outputs": [
    {
     "data": {
      "text/plain": [
       "'A Potato Battery Can Light up a Room for Over a Month DIY (System That Can Be Used to Provide Rooms With LED-Powered Lighting for as Long as 40 days) +Video'"
      ]
     },
     "execution_count": 12,
     "metadata": {},
     "output_type": "execute_result"
    }
   ],
   "source": [
    "Body_mode = df.Body.mode()[0]\n",
    "Body_mode"
   ]
  },
  {
   "cell_type": "code",
   "execution_count": 13,
   "id": "46cb4ab6",
   "metadata": {},
   "outputs": [
    {
     "data": {
      "text/plain": [
       "A Potato Battery Can Light up a Room for Over a Month DIY (System That Can Be Used to Provide Rooms With LED-Powered Lighting for as Long as 40 days) +Video                                                                                                                                                                                                                                                                                                                                                                                                                                                                                                                                                                                                                                                                                                                                                                                                                                                                                                                                                                                                                                                                                                                                                                                                                                                                                                                                                                                                                                                                                                                                                                                                                                                                                                                                                                                                                                                                                                                                                                                                                                                                                                                                                                                                                                                                                                                                                                                                                                                                                                                                                                                                                                                                                                                                                                                                                                                                                                                                                                                                                                                                                                                                                                                                                                                                                                                                                                                                                                                                                                                                                                                                                                                                                                                                                                                                                                                                                                                                                                                                                                                                                                                                                                                                                                                                                                                                                                                                                                                                                                                                                                                                                                                                                                                                                                                                                                                                                                                                                                                                                                                                                                                                                          0.040908\n",
       "An Embattled Pharmaceutical Company That Sells the Powerful Painkiller Fentanyl Has Donated $500,000 to Campaign Opposing Pot Legalization, Pro-Legalization Campaign Says 'We Are Truly Shocked.' (Video)                                                                                                                                                                                                                                                                                                                                                                                                                                                                                                                                                                                                                                                                                                                                                                                                                                                                                                                                                                                                                                                                                                                                                                                                                                                                                                                                                                                                                                                                                                                                                                                                                                                                                                                                                                                                                                                                                                                                                                                                                                                                                                                                                                                                                                                                                                                                                                                                                                                                                                                                                                                                                                                                                                                                                                                                                                                                                                                                                                                                                                                                                                                                                                                                                                                                                                                                                                                                                                                                                                                                                                                                                                                                                                                                                                                                                                                                                                                                                                                                                                                                                                                                                                                                                                                                                                                                                                                                                                                                                                                                                                                                                                                                                                                                                                                                                                                                                                                                                                                                                                                                                                            0.030182\n",
       "Red Flag Warning: These California Wildfires Are ‘Among The Most Destructive Fire Events In US History’ And They Are About To Get Even Worse                                                                                                                                                                                                                                                                                                                                                                                                                                                                                                                                                                                                                                                                                                                                                                                                                                                                                                                                                                                                                                                                                                                                                                                                                                                                                                                                                                                                                                                                                                                                                                                                                                                                                                                                                                                                                                                                                                                                                                                                                                                                                                                                                                                                                                                                                                                                                                                                                                                                                                                                                                                                                                                                                                                                                                                                                                                                                                                                                                                                                                                                                                                                                                                                                                                                                                                                                                                                                                                                                                                                                                                                                                                                                                                                                                                                                                                                                                                                                                                                                                                                                                                                                                                                                                                                                                                                                                                                                                                                                                                                                                                                                                                                                                                                                                                                                                                                                                                                                                                                                                                                                                                                                                          0.029683\n",
       "Warning Something Big Is About to Happen in America the Martial Law Is Coming – 100% Chance it Will Happen ( Red List and Blue List)                                                                                                                                                                                                                                                                                                                                                                                                                                                                                                                                                                                                                                                                                                                                                                                                                                                                                                                                                                                                                                                                                                                                                                                                                                                                                                                                                                                                                                                                                                                                                                                                                                                                                                                                                                                                                                                                                                                                                                                                                                                                                                                                                                                                                                                                                                                                                                                                                                                                                                                                                                                                                                                                                                                                                                                                                                                                                                                                                                                                                                                                                                                                                                                                                                                                                                                                                                                                                                                                                                                                                                                                                                                                                                                                                                                                                                                                                                                                                                                                                                                                                                                                                                                                                                                                                                                                                                                                                                                                                                                                                                                                                                                                                                                                                                                                                                                                                                                                                                                                                                                                                                                                                                                  0.026191\n",
       "Vietnam Is in Great Danger, You Must Publish and Tell Your Army and Government Now!                                                                                                                                                                                                                                                                                                                                                                                                                                                                                                                                                                                                                                                                                                                                                                                                                                                                                                                                                                                                                                                                                                                                                                                                                                                                                                                                                                                                                                                                                                                                                                                                                                                                                                                                                                                                                                                                                                                                                                                                                                                                                                                                                                                                                                                                                                                                                                                                                                                                                                                                                                                                                                                                                                                                                                                                                                                                                                                                                                                                                                                                                                                                                                                                                                                                                                                                                                                                                                                                                                                                                                                                                                                                                                                                                                                                                                                                                                                                                                                                                                                                                                                                                                                                                                                                                                                                                                                                                                                                                                                                                                                                                                                                                                                                                                                                                                                                                                                                                                                                                                                                                                                                                                                                                                   0.022699\n",
       "                                                                                                                                                                                                                                                                                                                                                                                                                                                                                                                                                                                                                                                                                                                                                                                                                                                                                                                                                                                                                                                                                                                                                                                                                                                                                                                                                                                                                                                                                                                                                                                                                                                                                                                                                                                                                                                                                                                                                                                                                                                                                                                                                                                                                                                                                                                                                                                                                                                                                                                                                                                                                                                                                                                                                                                                                                                                                                                                                                                                                                                                                                                                                                                                                                                                                                                                                                                                                                                                                                                                                                                                                                                                                                                                                                                                                                                                                                                                                                                                                                                                                                                                                                                                                                                                                                                                                                                                                                                                                                                                                                                                                                                                                                                                                                                                                                                                                                                                                                                                                                                                                                                                                                                                                                                                                                                        ...   \n",
       "University Under Fire For Excluding Women From Feminism Panel\\n% of readers think this story is Fact. Add your two cents.\\n(Before It's News)\\nOne of Mexico’s most famous and accomplished feminists is behind this particular event, so why is she only having men participate and talk about feminism?\\nSource: http://www.carbonated.tv/news/university-under-fire-for-excluding-women-from-feminism-panel                                                                                                                                                                                                                                                                                                                                                                                                                                                                                                                                                                                                                                                                                                                                                                                                                                                                                                                                                                                                                                                                                                                                                                                                                                                                                                                                                                                                                                                                                                                                                                                                                                                                                                                                                                                                                                                                                                                                                                                                                                                                                                                                                                                                                                                                                                                                                                                                                                                                                                                                                                                                                                                                                                                                                                                                                                                                                                                                                                                                                                                                                                                                                                                                                                                                                                                                                                                                                                                                                                                                                                                                                                                                                                                                                                                                                                                                                                                                                                                                                                                                                                                                                                                                                                                                                                                                                                                                                                                                                                                                                                                                                                                                                                                                                                                                                                                                                                        0.000249\n",
       "Mr. Greenspan is also no stranger to lengthy events, having starred as Mephistopheles in Target Margin’s six-hour “Faust.” Yet “Strange Interlude” is something else entirely. As Jonathan Kalb, a professor at Hunter College who has written a book on marathon performances, put it: “Most solo shows, the better ones, are 90 minutes tops. More than that, boy, you’re risking everything.”\\nPhoto\\nThis “Strange Interlude” won’t be the longest straight play staged in New York in recent years — that honor belongs to Elevator Repair Service’s eight-hour “Gatz.” It’s certainly not the longest solo, clocking in at only a quarter of the length of Taylor Mac’s “A 24-Decade History of Popular Music.” But it is an occasionally lurid interwar ragout of sex, death and boat races. It is also probably one of the last times anyone decided to name a dashing romantic swain Gordon. Censored in New York and banned in Boston, the play nevertheless became an unlikely Broadway hit.\\nO’Neill joked that if the play were a sandwich it would be “a four-decker with nothing but ham.”\\nMr. Greenspan has been chewing on that for a while now. In the summer of 2013, he, Transport Group’s artistic director, Jack Cummings III, its dramaturge Krista Corcoran Williams and a couple of associates met for an artistic residency in upstate New York. They’d all enjoyed working together on “The Patsy.” Now they wanted a project “to go deeper and further with,” Ms. Williams said.\\nSo Mr. Greenspan read “Strange Interlude” aloud, which took him seven or eight hours. And the company agreed to produce it. Mr. Greenspan has been rehearsing ever since.\\nThe published script runs 190 pages. Mr. Greenspan worked through the acts one at a time, putting in four to five hours a day, five to six days a week even while rehearsing, performing and touring other plays. Last year, Mr. Cummings gave him a cameo in his William Inge double-bill just to keep Mr. Greenspan around and on salary while he worked. This summer, while appearing in “Minor Character” in Connecticut, he requested a rehearsal space as part of his contract. “I had to memorize Act 8,” he said.\\nMostly, Mr. Greenspan works at home, in the small one-bedroom in Westbeth Artists Housing that he shares with his partner, the teacher and painter William Kennon. He moves their furniture around to replicate the set and takes breathers to feed their two cats and one German Shepherd. Sometimes he borrows Mr. Kennon’s painting studio.\\nNewsletter Sign Up Continue reading the main story Subscribe to the Theater Newsletter Every week, stay on top of the latest news, interviews and reviews from Broadway and beyond. Please verify you're not a robot by clicking the box. Invalid email address. Please re-enter. You must select a newsletter to subscribe to. Sign Up You agree to receive occasional updates and special offers for The New York Times's products and services. Thank you for subscribing. An error has occurred. Please try again later. View all New York Times newsletters.\\nOn a good five-hour day, he can learn perhaps two pages. But often it’s less. “Line by line,” he said. “Sometimes you learn just a few words, sometimes a sentence. It’s very deliberate.” Ms. Williams, who has often observed him, described the process as “mind-numbing and thrilling in kind of equal measure.”\\nAdvertisement Continue reading the main story\\nMr. Greenspan prizes accuracy. In rehearsal he scolded himself for missing “and” in one sentence, “the” in another. But for him, memorizing means more than rote learning or brute-force drills. It means discovering in each line “what the intentions are, what the feeling is, what the state of being is, what the emotional state is,” he said.\\nHe tries to make his characters as full and real as possible, figuring out how they move, how they think, how they sound. From there he develops a map of each act, “like making up a dance in a way,” he said, a dance he then fine-tunes with Mr. Cummings and his team.\\nSitting in the rehearsal room, he cycled though some of this choreography. He stuffed his hands into his pockets for Ned, then gave his neck a sensual stroke as Ned’s lover, Nina, then knit his fingers as Nina’s forbidding father, Professor Leeds. Each character was conjured with what looked like minimal effort and eerie, easy grace. Then Mr. Greenspan stood and played the bit where Ned hands the prescription to Sam. One man moved to offer it; another snatched it away. The effect was delightful, and also unnerving.\\nMs. Williams said that watching the full production can feel “like you’re either on drugs or experiencing some kind of religious reckoning.”\\n“There is something that happens when you’re in the room that long with one person doing something this audacious,” she continued.\\nFor Mr. Greenspan, the effects are mellower. When he finishes a run-through he feels “good afterward,” he said, “neither tired or exhilarated.” And if there is lingering excitement “a little herbal tea will, I think, handle that.”                                                                                                     0.000249\n",
       "What Psoriasis Does to Your Heart By Marijke Vroomen Durning, RN\\nWas this helpful? ( 88 )\\nPsoriasis is a chronic inflammatory autoimmune disease. People with psoriasis develop patches on their skin that can be scaly, red, very itchy and painful. But while psoriasis is a skin disease, it can also affect other parts of your body—including your heart.\\nHow can psoriasis affect the heart?\\nSince psoriasis is an inflammatory disease, over time the inflammation inside your body can cause damage to your blood vessels and your organs, like your heart. As the damage progresses, your risk for cardiovascular disease and stroke increases. Statistics show that people with psoriasis have three times the risk of having a heart attack than people who don’t have psoriasis, and the more severe the psoriasis, the higher the risk.\\nMedical Reviewer: William C. Lloyd III, MD, FACS Last Review Date: Apr 18, 2017 2017 Healthgrades Operating Company, Inc. All rights reserved. May not be reproduced or reprinted without permission from Healthgrades Operating Company, Inc. Use of this information is governed by the Healthgrades User Agreement.\\nPeople with psoriasis are also prone to developing some other illnesses, which are risks themselves for heart disease, such as:\\nObesity\\nType 2 diabetes\\nHypertension (high blood pressure)\\nMetabolic syndrome\\nWhat causes the complications to the heart?\\nLong-term inflammation in your arteries leads to damage in the arterial walls. This can lead to atherosclerosis, or hardening of the arteries. When there is damage along your arterial wall, substances in your blood, such as low-density lipoprotein cholesterol (LDL), can hook on to the wall and become stuck, narrowing the blood vessel. As it becomes harder for your blood to flow past the obstruction, your heart has to work harder, leading to heart disease. Fatty deposits stuck to the wall could also break off and travel through your blood stream to your heart or brain, causing a heart attack or stroke. Additionally, chronic smoldering inflammation anywhere in the body leads to elevated levels of chemical mediators that are directly related to atherosclerotic heart disease.\\nResearchers have also found other problems that are unique to people with psoriasis and may increase their heart disease risk:\\nPeople with psoriasis have thicker, denser LDL that can clog up more easily\\nThey don’t have as much “good” cholesterol, high-density lipoprotein (HDL), which works against LDL\\nThey may take medications, such as acitretin (Soriatane), that can increase LDL and decrease HDL\\nCombined with the higher risk people with psoriasis have for obesity, type 2 diabetes, hypertension or metabolic syndrome, all patients with psoriasis need to take steps to prevent heart complications.\\nHow can heart problems caused by psoriasis be prevented?\\nYou can help reduce your risk of heart disease, a heart attack, or stroke caused by psoriasis by managing your illness as well as possible, and by living a healthy lifestyle. Along with your doctor’s advice, here are some ways you can help yourself:\\nFollow your psoriasis treatment plan : Take your medications as prescribed by your doctor to treat your psoriasis. If you have any concerns about the drugs, speak with your doctor or pharmacist. Don’t stop treatment without discussing it first with your doctor.\\nEat a heart-healthy diet : Eating a heart-healthy diet not only helps reduce your risk of developing heart disease, it also helps reduce the risk of type 2 diabetes, obesity, hypertension, metabolic syndrome, and other illnesses that can be related to lifestyle. If your doctor has advised you to lose weight and you don’t know where to start, ask to meet with a dietitian, who will be able to help you develop new eating patterns.\\nExercise : Speak with your doctor about starting an exercise plan if you don’t exercise already. For some people, regular exercise is a daily walk; for others, it’s participating in team sports. Find an activity that will keep you active and that you’ enjoy, so you’ll stick to it.\\nReduce your stress levels : This may be easier said than done, but stress can increase the risk of heart disease, so reducing stress is important. Being physically active can be one type of stress reliever, as can participating in activities such as yoga, meditation and mindfulness. Therapy with a counselor may help you learn how to manage stress.\\nQuit smoking : If you smoke and find it hard to quit, speak to your doctor about options that may help you.\\n: If you smoke and find it hard to quit, speak to your doctor about options that may help you. Undergo regular heart disease screening: Talk to your doctor about how often you should be screened for heart disease and what tests you should have.\\nIf you experience any signs or symptoms of a heart attack or stroke, call 9-1-1 immediately for emergency help.\\nLiving with a chronic disease such as psoriasis has its challenges, but by being proactive and and taking care of yourself, you can reduce your risks for heart disease and other illnesses.\\nWas this helpful? ( 88 )    0.000249\n",
       "Photo\\nWatch a documentary on Tom Petty and the Heartbreakers and a basketball-centered episode of “StarTalk.”\\nWhat’s Streaming\\nTOM PETTY AND THE HEARTBREAKERS: RUNNIN’ DOWN A DREAM (2008) on Netflix, Amazon, and Youtube. Tom Petty, the celebrated rocker, died last week soon after wrapping up a joyous 40th anniversary tour with his indefatigable band the Heartbreakers. “He and the Heartbreakers steered clear of elaborate showmanship to let their songs and their musicianship speak for themselves,” Jon Pareles wrote in his obituary. Peter Bogdanovich’s documentary, running a whopping 238 minutes, charts the course of the Heartbreakers from their youth in Gainesville, Fla. — where an 11-year-old Tom Petty met Elvis Presley — to their rise as an international phenomenon. Interviews with friends and collaborators, such as George Harrison, Eddie Vedder and Roger McGuinn are sprinkled throughout; of course, there’s plenty of wry insight from Mr. Petty himself.\\nWhat’s On TV\\nPhoto\\nTHE TOY BOX 7 p.m. on ABC. It’s not so much a shark tank as a minnow tank. On “The Toy Box,” inventors and entrepreneurs competing for a deal with Mattel and Toys “R” Us bring their concepts to a panel of very discerning judges, ages 7 to 12. The adult mentors of last year’s first season are gone, leaving kids firmly in charge. (One of those is Noah Ritter, of “Apparently” viral fame and frequent “Ellen” appearances.) The pitches this week include singing stuffed animals, a robotic flower and a variation on the inescapable fidget spinner.\\nANTHONY BOURDAIN: PARTS UNKNOWN 9 p.m. on CNN. The genial, hard-drinking chef continues his trek around the world. It’s a delight to watch his delight in finding delectables in unexpected corners. But in this episode, he heads to a region widely renowned for its cuisine: the French Alps. He joins the French chef Eric Ripert (Le Bernardin) for some skiing, cheese, steak au poivre and more. (Watch the first eight seasons on Netflix.)\\nPhoto\\nCURB YOUR ENTHUSIASM 10 p.m. on HBO; also streaming on HBO platforms. After six years, America’s favorite curmudgeon is back to complaining about nothing and everything. This episode is called “The Pickle Gambit” (yet another cucumber-themed episode after “Rick and Morty” blessed us with “Pickle Rick”) and features familiar faces like Leon Black (J. B. Smoove) and Marty Funkhouser (Bob Einstein). Larry gives sartorial advice to a hotel guest and tries to create a diversion to help a friend’s nephew.\\nSTARTALK 11 p.m. on National Geographic. Neil deGrasse Tyson is a cultural fixture; you can find him on the talk show circuit, geeking out over “Titanic” and “Game of Thrones” and clapping back on Twitter, where imitators have poked fun at his enjoyably pompous manner. This week on his science-based TV show, he interviews Kareem Abdul-Jabbar, whose dominance on the basketball court has spilled over to many other fields, including acting and writing — he even earned the Presidential Medal of Freedom last year. Mr. Tyson also discusses the science of basketball.                                                                                                                                                                                                                                                                                                                                                                                                                                                                                                                                                                                                                                                                                                                                                                                                                                                                                                                                                                                                                                                                                                                                                                                                                                                                                                                                                                                                                                                                                                                                                                                                                                                                                                                                                                                                                                                                                                                                                                                                                                                                                                                                        0.000249\n",
       "Vice President Mike Pence Leaves NFL Game Because of Anti-American Protests\\n% of readers think this story is Fact. Add your two cents.\\n(Before It's News)\\nBy Donn Marten -\\nVice President Mike Pence was to have attended today’s National Football League game between the Indianapolis Colts and San Francisco 49ers but chose to leave after several players chose to use his presence to make an anti-American political statement.\\nCDN – http://www.conservativedailynews.com\\nThe Colts were to have honored longtime player and future Hall of Fame quarterback Peyton Manning during a ceremony but while the home team respected the flag by standing, the actions of the opposing San Francisco 49ers were seen as sufficiently disrespectful to the Veep that he departed the venue before kickoff.\\nAs reported by Indianapolis Fox affiliate Fox 59 “VP Mike Pence leaves Colts game because 49ers players knelt during anthem”:\\nVice President Mike Pence decided to leave the Indianapolis Colts game Sunday because some 49ers players knelt during the national anthem. In a tweet, the former Indiana governor said “I left today’s Colts game because @POTUS and I will not dignify any event that disrespects our soldiers, our Flag, or our National Anthem.” Minutes after that tweet, his office released a full statement. “I left today’s Colts game because President Trump and I will not dignify any event that disrespects our soldiers, our Flag, or our National Anthem. At a time when so many Americans are inspiring our nation with their courage, resolve, and resilience, now, more than ever, we should rally around our Flag and everything that unites us. While everyone is entitled to their own opinions, I don’t think it’s too much to ask NFL players to respect the Flag and our National Anthem. I stand with President Trump, I stand with our soldiers, and I will always stand for our Flag and our National Anthem.” It was announced Friday that Pence would attend the game with the second lady. The game is special, because Peyton Manning’s jersey will be retired at halftime and he will be inducted into the Ring of Honor. Before the game, he tweeted that he was looking forward to honor “the great career of #18 Peyton Manning.” Pence’s actions will no doubt be seized on by those who have polluted the NFL with their racial grievances and hatred of President Trump as “proof” that he stands for white supremacy and Nazism but he was dead right to leave and many of the other fans in attendance should have done so as well instead of being subjected to the politics of radical leftist racial grievance mongers that have driven the league’s popularity to historic lows.\\nThe Vice President expressed the following via Twitter:\\n52m Vice President Pence ✔@VP Replying to @VP While everyone is entitled to their own opinions, I don’t think it’s too much to ask NFL players to respect the Flag and our National Anthem\\nVice President Pence ✔@VP I left today’s Colts game because @POTUS and I will not dignify any event that disrespects our soldiers, our Flag, or our National Anthem. 11:08 AM – Oct 8, 2017\\nPence was formerly the Governor of Indiana.\\nIt’s just what the NFL needed too, even more negative publicity before the early games even kicked off.\\nREAD MORE\\nVice President Mike Pence Leaves NFL Game Because of Anti-American Protests is original content from Conservative Daily News – Conservative Daily News – Where Americans go for news, current events and commentary they can trust.\\nCDN – http://www.conservativedailynews.com\\nSource: https://www.conservativedailynews.com/2017/10/vice-president-mike-pence-leaves-nfl-game-anti-american-protests/                                                                                                                                                                                                                                                                                                                                                                                                                                                                                                                                                                                                                                                                                                                                                                                                                                                                                                                                                                                                                                                                                                                                                                                                                                                                                                                                                                                                                                                                                                                        0.000249\n",
       "Name: Body, Length: 2863, dtype: float64"
      ]
     },
     "execution_count": 13,
     "metadata": {},
     "output_type": "execute_result"
    }
   ],
   "source": [
    "df.Body.fillna(Body_mode,inplace=True)\n",
    "df.Body.value_counts(normalize=True)"
   ]
  },
  {
   "cell_type": "markdown",
   "id": "aba364a9",
   "metadata": {},
   "source": [
    "### Exploratory Data Analysis "
   ]
  },
  {
   "cell_type": "code",
   "execution_count": 14,
   "id": "025c8570",
   "metadata": {},
   "outputs": [
    {
     "data": {
      "text/plain": [
       "<AxesSubplot:>"
      ]
     },
     "execution_count": 14,
     "metadata": {},
     "output_type": "execute_result"
    },
    {
     "data": {
      "image/png": "[encoded data removed]",
      "text/plain": [
       "<Figure size 432x288 with 1 Axes>"
      ]
     },
     "metadata": {
      "needs_background": "light"
     },
     "output_type": "display_data"
    }
   ],
   "source": [
    "df['Label'].value_counts().plot.bar(color = 'blue',figsize = (6,4))"
   ]
  },
  {
   "cell_type": "code",
   "execution_count": 15,
   "id": "3738e351",
   "metadata": {},
   "outputs": [
    {
     "data": {
      "image/png": "[encoded data removed]",
      "text/plain": [
       "<Figure size 432x288 with 1 Axes>"
      ]
     },
     "metadata": {
      "needs_background": "light"
     },
     "output_type": "display_data"
    }
   ],
   "source": [
    "length_df = df['Headline'].str.len().plot.hist(color = 'yellow',figsize=(6,4))\n",
    "length_df = df['URLs'].str.len().plot.hist(color = 'pink',figsize=(6,4))"
   ]
  },
  {
   "cell_type": "code",
   "execution_count": 16,
   "id": "ee05bdb3",
   "metadata": {},
   "outputs": [
    {
     "data": {
      "text/plain": [
       "Text(0.5, 1.0, 'Most Frequently Occuring Words\\xa0-\\xa0Top\\xa030')"
      ]
     },
     "execution_count": 16,
     "metadata": {},
     "output_type": "execute_result"
    },
    {
     "data": {
      "image/png": "[encoded data removed]",
      "text/plain": [
       "<Figure size 1080x504 with 1 Axes>"
      ]
     },
     "metadata": {
      "needs_background": "light"
     },
     "output_type": "display_data"
    }
   ],
   "source": [
    "from sklearn.feature_extraction.text import CountVectorizer\n",
    "\n",
    "\n",
    "cv = CountVectorizer(stop_words = 'english')\n",
    "words = cv.fit_transform(df)\n",
    "\n",
    "sum_words = words.sum(axis=0)\n",
    "\n",
    "words_freq = [(word, sum_words[0, i]) for word, i in cv.vocabulary_.items()]\n",
    "words_freq = sorted(words_freq, key = lambda x: x[1], reverse = True)\n",
    "\n",
    "frequency = pd.DataFrame(words_freq, columns=['word', 'freq'])\n",
    "\n",
    "frequency.head(30).plot(x='word', y='freq', kind='bar', figsize=(15, 7), color = 'blue')\n",
    "plt.title(\"Most Frequently Occuring Words - Top 30\")"
   ]
  },
  {
   "cell_type": "code",
   "execution_count": 17,
   "id": "84cc985a",
   "metadata": {},
   "outputs": [
    {
     "data": {
      "image/png": "[encoded data removed]",
      "text/plain": [
       "<Figure size 432x288 with 1 Axes>"
      ]
     },
     "metadata": {
      "needs_background": "light"
     },
     "output_type": "display_data"
    }
   ],
   "source": [
    "df.groupby('URLs').mean().plot.hist(color = 'black', figsize = (6, 4),)\n",
    "plt.title('variation of length')\n",
    "plt.xlabel('Length')\n",
    "plt.show()"
   ]
  },
  {
   "cell_type": "code",
   "execution_count": 18,
   "id": "3d5b9fbf",
   "metadata": {},
   "outputs": [
    {
     "data": {
      "image/png": "[encoded data removed]",
      "text/plain": [
       "<Figure size 1152x360 with 1 Axes>"
      ]
     },
     "metadata": {
      "needs_background": "light"
     },
     "output_type": "display_data"
    }
   ],
   "source": [
    "import nltk\n",
    "a = nltk.FreqDist(df)\n",
    "d = pd.DataFrame({'Hashtag': list(a.keys()),\n",
    "                  'Count': list(a.values())})\n",
    "\n",
    "# selecting top 20 most frequent hashtags     \n",
    "d = d.nlargest(columns=\"Count\", n = 20) \n",
    "plt.figure(figsize=(16,5))\n",
    "ax = sns.barplot(data=d, x= \"Hashtag\", y = \"Count\")\n",
    "ax.set(ylabel = 'Count')\n",
    "plt.show()"
   ]
  },
  {
   "cell_type": "markdown",
   "id": "a4a6bd1d",
   "metadata": {},
   "source": [
    "## Data-PreProcessing "
   ]
  },
  {
   "cell_type": "markdown",
   "id": "844f60ba",
   "metadata": {},
   "source": [
    "#### 1.Removing the Null Values \n",
    "#### 2.Adding a new field \n",
    "#### 3.Drop features that are not needed \n",
    "#### 4.Text processing\n"
   ]
  },
  {
   "cell_type": "code",
   "execution_count": 19,
   "id": "a6e2cd5d",
   "metadata": {},
   "outputs": [],
   "source": [
    "df = df.copy()"
   ]
  },
  {
   "cell_type": "markdown",
   "id": "94633b22",
   "metadata": {},
   "source": [
    "### Removing the Null Values"
   ]
  },
  {
   "cell_type": "markdown",
   "id": "ac98c7b5",
   "metadata": {},
   "source": [
    "#### As Body field has some empty fields, it can be handled in two ways:\n",
    "\n",
    "    #### 1)Drop the 21 rows\n",
    "    #### 2)Replace the null value with a dummy string\n",
    "\n",
    "#### Here, I will be going with the 2nd option, because although dropping 21 rows would not affect the accuracy, as it is just a minute portion of our large dataset, it is never recommended.\n",
    "\n",
    "#### I will be replacing the Null(Nan) values in 'Body' field with an empty string ('')"
   ]
  },
  {
   "cell_type": "code",
   "execution_count": 20,
   "id": "46c3eb26",
   "metadata": {},
   "outputs": [],
   "source": [
    "df['Body'] = df['Body'].fillna('')"
   ]
  },
  {
   "cell_type": "code",
   "execution_count": 21,
   "id": "367ac232",
   "metadata": {},
   "outputs": [
    {
     "data": {
      "text/plain": [
       "URLs        0\n",
       "Headline    0\n",
       "Body        0\n",
       "Label       0\n",
       "dtype: int64"
      ]
     },
     "execution_count": 21,
     "metadata": {},
     "output_type": "execute_result"
    }
   ],
   "source": [
    "df.isnull().sum()"
   ]
  },
  {
   "cell_type": "markdown",
   "id": "78b33f68",
   "metadata": {},
   "source": [
    "#### Adding a new column "
   ]
  },
  {
   "cell_type": "code",
   "execution_count": 22,
   "id": "b73b67fb",
   "metadata": {},
   "outputs": [],
   "source": [
    "df['News'] = df['Headline']+df['Body']"
   ]
  },
  {
   "cell_type": "code",
   "execution_count": 23,
   "id": "ae14d309",
   "metadata": {},
   "outputs": [
    {
     "data": {
      "text/html": [
       "<div>\n",
       "<style scoped>\n",
       "    .dataframe tbody tr th:only-of-type {\n",
       "        vertical-align: middle;\n",
       "    }\n",
       "\n",
       "    .dataframe tbody tr th {\n",
       "        vertical-align: top;\n",
       "    }\n",
       "\n",
       "    .dataframe thead th {\n",
       "        text-align: right;\n",
       "    }\n",
       "</style>\n",
       "<table border=\"1\" class=\"dataframe\">\n",
       "  <thead>\n",
       "    <tr style=\"text-align: right;\">\n",
       "      <th></th>\n",
       "      <th>URLs</th>\n",
       "      <th>Headline</th>\n",
       "      <th>Body</th>\n",
       "      <th>Label</th>\n",
       "      <th>News</th>\n",
       "    </tr>\n",
       "  </thead>\n",
       "  <tbody>\n",
       "    <tr>\n",
       "      <th>0</th>\n",
       "      <td>http://www.bbc.com/news/world-us-canada-414191...</td>\n",
       "      <td>Four ways Bob Corker skewered Donald Trump</td>\n",
       "      <td>Image copyright Getty Images\\nOn Sunday mornin...</td>\n",
       "      <td>1</td>\n",
       "      <td>Four ways Bob Corker skewered Donald TrumpImag...</td>\n",
       "    </tr>\n",
       "    <tr>\n",
       "      <th>1</th>\n",
       "      <td>https://www.reuters.com/article/us-filmfestiva...</td>\n",
       "      <td>Linklater's war veteran comedy speaks to moder...</td>\n",
       "      <td>LONDON (Reuters) - “Last Flag Flying”, a comed...</td>\n",
       "      <td>1</td>\n",
       "      <td>Linklater's war veteran comedy speaks to moder...</td>\n",
       "    </tr>\n",
       "    <tr>\n",
       "      <th>2</th>\n",
       "      <td>https://www.nytimes.com/2017/10/09/us/politics...</td>\n",
       "      <td>Trump’s Fight With Corker Jeopardizes His Legi...</td>\n",
       "      <td>The feud broke into public view last week when...</td>\n",
       "      <td>1</td>\n",
       "      <td>Trump’s Fight With Corker Jeopardizes His Legi...</td>\n",
       "    </tr>\n",
       "    <tr>\n",
       "      <th>3</th>\n",
       "      <td>https://www.reuters.com/article/us-mexico-oil-...</td>\n",
       "      <td>Egypt's Cheiron wins tie-up with Pemex for Mex...</td>\n",
       "      <td>MEXICO CITY (Reuters) - Egypt’s Cheiron Holdin...</td>\n",
       "      <td>1</td>\n",
       "      <td>Egypt's Cheiron wins tie-up with Pemex for Mex...</td>\n",
       "    </tr>\n",
       "    <tr>\n",
       "      <th>4</th>\n",
       "      <td>http://www.cnn.com/videos/cnnmoney/2017/10/08/...</td>\n",
       "      <td>Jason Aldean opens 'SNL' with Vegas tribute</td>\n",
       "      <td>Country singer Jason Aldean, who was performin...</td>\n",
       "      <td>1</td>\n",
       "      <td>Jason Aldean opens 'SNL' with Vegas tributeCou...</td>\n",
       "    </tr>\n",
       "  </tbody>\n",
       "</table>\n",
       "</div>"
      ],
      "text/plain": [
       "                                                URLs  \\\n",
       "0  http://www.bbc.com/news/world-us-canada-414191...   \n",
       "1  https://www.reuters.com/article/us-filmfestiva...   \n",
       "2  https://www.nytimes.com/2017/10/09/us/politics...   \n",
       "3  https://www.reuters.com/article/us-mexico-oil-...   \n",
       "4  http://www.cnn.com/videos/cnnmoney/2017/10/08/...   \n",
       "\n",
       "                                            Headline  \\\n",
       "0         Four ways Bob Corker skewered Donald Trump   \n",
       "1  Linklater's war veteran comedy speaks to moder...   \n",
       "2  Trump’s Fight With Corker Jeopardizes His Legi...   \n",
       "3  Egypt's Cheiron wins tie-up with Pemex for Mex...   \n",
       "4        Jason Aldean opens 'SNL' with Vegas tribute   \n",
       "\n",
       "                                                Body  Label  \\\n",
       "0  Image copyright Getty Images\\nOn Sunday mornin...      1   \n",
       "1  LONDON (Reuters) - “Last Flag Flying”, a comed...      1   \n",
       "2  The feud broke into public view last week when...      1   \n",
       "3  MEXICO CITY (Reuters) - Egypt’s Cheiron Holdin...      1   \n",
       "4  Country singer Jason Aldean, who was performin...      1   \n",
       "\n",
       "                                                News  \n",
       "0  Four ways Bob Corker skewered Donald TrumpImag...  \n",
       "1  Linklater's war veteran comedy speaks to moder...  \n",
       "2  Trump’s Fight With Corker Jeopardizes His Legi...  \n",
       "3  Egypt's Cheiron wins tie-up with Pemex for Mex...  \n",
       "4  Jason Aldean opens 'SNL' with Vegas tributeCou...  "
      ]
     },
     "execution_count": 23,
     "metadata": {},
     "output_type": "execute_result"
    }
   ],
   "source": [
    "df.head()"
   ]
  },
  {
   "cell_type": "code",
   "execution_count": 24,
   "id": "7c71a851",
   "metadata": {},
   "outputs": [
    {
     "data": {
      "text/plain": [
       "Index(['URLs', 'Headline', 'Body', 'Label', 'News'], dtype='object')"
      ]
     },
     "execution_count": 24,
     "metadata": {},
     "output_type": "execute_result"
    }
   ],
   "source": [
    "df.columns"
   ]
  },
  {
   "cell_type": "markdown",
   "id": "03a3f500",
   "metadata": {},
   "source": [
    "### Drop features that are not needed "
   ]
  },
  {
   "cell_type": "code",
   "execution_count": 25,
   "id": "de08090a",
   "metadata": {},
   "outputs": [],
   "source": [
    "features_drop = ['URLs','Headline','Body']\n",
    "df = df.drop(features_drop,axis=1)"
   ]
  },
  {
   "cell_type": "code",
   "execution_count": 26,
   "id": "68f07566",
   "metadata": {},
   "outputs": [
    {
     "data": {
      "text/plain": [
       "Index(['Label', 'News'], dtype='object')"
      ]
     },
     "execution_count": 26,
     "metadata": {},
     "output_type": "execute_result"
    }
   ],
   "source": [
    "df.columns"
   ]
  },
  {
   "cell_type": "markdown",
   "id": "6cf2477d",
   "metadata": {},
   "source": [
    "### Text Processing "
   ]
  },
  {
   "cell_type": "markdown",
   "id": "9f87ef7b",
   "metadata": {},
   "source": [
    "#### 1)Remove symbols\n",
    "#### 2)Remove stopwords\n",
    "#### 3)Stemming"
   ]
  },
  {
   "cell_type": "code",
   "execution_count": 27,
   "id": "ca5e3079",
   "metadata": {},
   "outputs": [],
   "source": [
    "ps = PorterStemmer() \n",
    "def wordopt(text):\n",
    "    text = re.sub('[^a-zA-Z]',' ',text)\n",
    "    text = text.lower()\n",
    "    text = text.split()\n",
    "    text = [ps.stem(word) for word in text if not word in stopwords.words('english')]\n",
    "    text = ' '.join(text)\n",
    "    return text "
   ]
  },
  {
   "cell_type": "code",
   "execution_count": 28,
   "id": "2fc527b1",
   "metadata": {},
   "outputs": [],
   "source": [
    "df['News'] = df['News'].apply(wordopt)"
   ]
  },
  {
   "cell_type": "code",
   "execution_count": 29,
   "id": "3f4691ee",
   "metadata": {},
   "outputs": [
    {
     "data": {
      "text/html": [
       "<div>\n",
       "<style scoped>\n",
       "    .dataframe tbody tr th:only-of-type {\n",
       "        vertical-align: middle;\n",
       "    }\n",
       "\n",
       "    .dataframe tbody tr th {\n",
       "        vertical-align: top;\n",
       "    }\n",
       "\n",
       "    .dataframe thead th {\n",
       "        text-align: right;\n",
       "    }\n",
       "</style>\n",
       "<table border=\"1\" class=\"dataframe\">\n",
       "  <thead>\n",
       "    <tr style=\"text-align: right;\">\n",
       "      <th></th>\n",
       "      <th>Label</th>\n",
       "      <th>News</th>\n",
       "    </tr>\n",
       "  </thead>\n",
       "  <tbody>\n",
       "    <tr>\n",
       "      <th>0</th>\n",
       "      <td>1</td>\n",
       "      <td>four way bob corker skewer donald trumpimag co...</td>\n",
       "    </tr>\n",
       "    <tr>\n",
       "      <th>1</th>\n",
       "      <td>1</td>\n",
       "      <td>linklat war veteran comedi speak modern americ...</td>\n",
       "    </tr>\n",
       "    <tr>\n",
       "      <th>2</th>\n",
       "      <td>1</td>\n",
       "      <td>trump fight corker jeopard legisl agendath feu...</td>\n",
       "    </tr>\n",
       "    <tr>\n",
       "      <th>3</th>\n",
       "      <td>1</td>\n",
       "      <td>egypt cheiron win tie pemex mexican onshor oil...</td>\n",
       "    </tr>\n",
       "    <tr>\n",
       "      <th>4</th>\n",
       "      <td>1</td>\n",
       "      <td>jason aldean open snl vega tributecountri sing...</td>\n",
       "    </tr>\n",
       "  </tbody>\n",
       "</table>\n",
       "</div>"
      ],
      "text/plain": [
       "   Label                                               News\n",
       "0      1  four way bob corker skewer donald trumpimag co...\n",
       "1      1  linklat war veteran comedi speak modern americ...\n",
       "2      1  trump fight corker jeopard legisl agendath feu...\n",
       "3      1  egypt cheiron win tie pemex mexican onshor oil...\n",
       "4      1  jason aldean open snl vega tributecountri sing..."
      ]
     },
     "execution_count": 29,
     "metadata": {},
     "output_type": "execute_result"
    }
   ],
   "source": [
    "df.head()"
   ]
  },
  {
   "cell_type": "markdown",
   "id": "d392762d",
   "metadata": {},
   "source": [
    "### Splitting DataSet "
   ]
  },
  {
   "cell_type": "code",
   "execution_count": 30,
   "id": "31a21781",
   "metadata": {},
   "outputs": [],
   "source": [
    "x = df['News']\n",
    "y = df['Label']\n",
    "x_train,x_test,y_train,y_test = train_test_split(x,y,test_size=0.25)"
   ]
  },
  {
   "cell_type": "markdown",
   "id": "b8e0cd9a",
   "metadata": {},
   "source": [
    "### 5 . Vectorization"
   ]
  },
  {
   "cell_type": "markdown",
   "id": "d00bb8c8",
   "metadata": {},
   "source": [
    "##### This is used to handle our text data, by converting it into vectors"
   ]
  },
  {
   "cell_type": "code",
   "execution_count": 31,
   "id": "6026ec10",
   "metadata": {},
   "outputs": [],
   "source": [
    "vectorization = TfidfVectorizer()\n",
    "xv_train = vectorization.fit_transform(x_train)\n",
    "xv_test = vectorization.transform(x_test)"
   ]
  },
  {
   "cell_type": "markdown",
   "id": "a9e1d731",
   "metadata": {},
   "source": [
    "### 6.Model Fitting \n",
    "#### I will be fitting my data onto 3 classifications models \n",
    "#### 1.Logistic Regression \n",
    "#### 2.SVM\n",
    "#### 3.RandomForestClassifier\n",
    "\n",
    "#### The best one amongst the 3 will be further "
   ]
  },
  {
   "cell_type": "code",
   "execution_count": 32,
   "id": "d3f2d0c2",
   "metadata": {},
   "outputs": [
    {
     "name": "stdout",
     "output_type": "stream",
     "text": [
      "Accuracy of LR model is 0.9690927218344965\n"
     ]
    }
   ],
   "source": [
    "#1. Logistic Regression - used because this model is best suited for binary classification\n",
    "LR_model = LogisticRegression()\n",
    "\n",
    "#Fitting training set to the model\n",
    "LR_model.fit(xv_train,y_train)\n",
    "\n",
    "#Predicting the test set results based on the model\n",
    "lr_y_pred = LR_model.predict(xv_test)\n",
    "\n",
    "#Calculate the accurracy of this model\n",
    "score = accuracy_score(y_test,lr_y_pred)\n",
    "print('Accuracy of LR model is',score)"
   ]
  },
  {
   "cell_type": "code",
   "execution_count": 33,
   "id": "be255fd8",
   "metadata": {},
   "outputs": [
    {
     "name": "stdout",
     "output_type": "stream",
     "text": [
      "Accuracy of svm model is 0.9820538384845464\n"
     ]
    }
   ],
   "source": [
    "#2. Support Vector Machine(SVM) - SVM works relatively well when there is a clear margin of separation between classes.\n",
    "svm_model = SVC(kernel='linear')\n",
    "\n",
    "#Fitting training set to the model\n",
    "svm_model.fit(xv_train,y_train)\n",
    "\n",
    "#Predicting the test set results based on the model\n",
    "svm_y_pred = svm_model.predict(xv_test)\n",
    "\n",
    "#Calculate the accuracy score of this model\n",
    "score = accuracy_score(y_test,svm_y_pred)\n",
    "\n",
    "+++++++++++++++++++++\n",
    "\n",
    "print('Accuracy of svm model is',score)"
   ]
  },
  {
   "cell_type": "code",
   "execution_count": 34,
   "id": "c00488b3",
   "metadata": {},
   "outputs": [
    {
     "name": "stdout",
     "output_type": "stream",
     "text": [
      "Accuracy of RFC model is 0.9710867397806581\n"
     ]
    }
   ],
   "source": [
    "#3. Random Forest Classifier \n",
    "RFC_model = RandomForestClassifier(random_state=0)\n",
    "\n",
    "#Fitting training set to the model\n",
    "RFC_model.fit(xv_train,y_train)\n",
    "\n",
    "#Predicting the test set results based on the model\n",
    "rfc_y_pred = RFC_model.predict(xv_test)\n",
    "\n",
    "#Calculate the accuracy score of this model\n",
    "score = accuracy_score(y_test,rfc_y_pred)\n",
    "print('Accuracy of RFC model is',score)"
   ]
  },
  {
   "cell_type": "markdown",
   "id": "85031d8f",
   "metadata": {},
   "source": [
    "### 7.Manual Model Testing"
   ]
  },
  {
   "cell_type": "code",
   "execution_count": 35,
   "id": "a8250ab0",
   "metadata": {},
   "outputs": [],
   "source": [
    "# As SVM is able to provide best results - SVM will be used to check the news liability\n",
    "def fake_news_det(news):\n",
    "    input_data = {\"text\":[news]}\n",
    "    new_def_test = pd.DataFrame(input_data)\n",
    "    new_def_test[\"text\"] = new_def_test[\"text\"].apply(wordopt)\n",
    "    new_x_test = new_def_test[\"text\"]\n",
    "    #print(new_x_test)\n",
    "    vectorized_input_data = vectorization.transform(new_x_test)\n",
    "    prediction = svm_model.predict(vectorized_input_data)\n",
    "    \n",
    "    if prediction == 1:\n",
    "        print(\"Not a Fake News\")\n",
    "    else:\n",
    "        print(\"Fake News\")"
   ]
  },
  {
   "cell_type": "code",
   "execution_count": 36,
   "id": "9d101e77",
   "metadata": {},
   "outputs": [
    {
     "name": "stdout",
     "output_type": "stream",
     "text": [
      "Not a Fake News\n"
     ]
    }
   ],
   "source": [
    "fake_news_det('U.S. Secretary of State John F. Kerry said Monday that he will stop in Paris later this week, amid criticism that no top American officials attended Sundayâ€™s unity march against terrorism.')"
   ]
  },
  {
   "cell_type": "code",
   "execution_count": 37,
   "id": "1d8aaeb8",
   "metadata": {},
   "outputs": [
    {
     "name": "stdout",
     "output_type": "stream",
     "text": [
      "Not a Fake News\n"
     ]
    }
   ],
   "source": [
    "fake_news_det('Many other aspects of global climate are changing as well. High temperature extremes and heavy precipitation events are increasing, glaciers and snow cover are shrinking, and sea ice is retreating. Seas are warming, rising, and becoming more acidic, and flooding is become more frequent along the U.S. coastline.')"
   ]
  },
  {
   "cell_type": "code",
   "execution_count": 38,
   "id": "d1fffa93",
   "metadata": {},
   "outputs": [
    {
     "name": "stdout",
     "output_type": "stream",
     "text": [
      "Fake News\n"
     ]
    }
   ],
   "source": [
    "fake_news_det('JetNation FanDuel League; Week 4 of readers think this story is Fact. Add your two cents.(Before Its News)Our FanDuel league is back again this week. Here are the details:$900 in total prize money. $250 to the winner. $10 to enter.Remember this is a one week league, pick your lineup against the salary cap and next week if you want to play again you can pick a completely different lineup if you want.Click this link to enter — http://fanduel.com/JetNation You can discuss this with other NY Jets fans on the Jet Nation message board. Or visit of on Facebook.Source: http://www.jetnation.com/2017/09/27/jetnation-fanduel-league-week-4')"
   ]
  },
  {
   "cell_type": "code",
   "execution_count": null,
   "id": "78f376ab",
   "metadata": {},
   "outputs": [],
   "source": []
  }
 ],
 "metadata": {
  "kernelspec": {
   "display_name": "Python 3 (ipykernel)",
   "language": "python",
   "name": "python3"
  },
  "language_info": {
   "codemirror_mode": {
    "name": "ipython",
    "version": 3
   },
   "file_extension": ".py",
   "mimetype": "text/x-python",
   "name": "python",
   "nbconvert_exporter": "python",
   "pygments_lexer": "ipython3",
   "version": "3.9.7"
  }
 },
 "nbformat": 4,
 "nbformat_minor": 5
}
